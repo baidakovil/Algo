{
 "cells": [
  {
   "cell_type": "code",
   "execution_count": 173,
   "id": "c8a83375",
   "metadata": {
    "ExecuteTime": {
     "end_time": "2021-12-10T23:06:34.932051Z",
     "start_time": "2021-12-10T23:06:33.641449Z"
    }
   },
   "outputs": [
    {
     "name": "stdout",
     "output_type": "stream",
     "text": [
      "YES\n"
     ]
    }
   ],
   "source": [
    "#run 1:\n",
    "def IsPrime(n):\n",
    "    for i in range(2,n):\n",
    "        if n % i == 0:\n",
    "            return False\n",
    "    return True\n",
    "\n",
    "# primeli = int(input())\n",
    "primeli = 16769023\n",
    "\n",
    "if IsPrime(primeli) :\n",
    "    print('YES')\n",
    "else :\n",
    "    print('NO')"
   ]
  },
  {
   "cell_type": "code",
   "execution_count": 262,
   "id": "11d68d68",
   "metadata": {
    "ExecuteTime": {
     "end_time": "2021-12-11T13:28:30.566559Z",
     "start_time": "2021-12-11T13:28:29.270155Z"
    }
   },
   "outputs": [
    {
     "name": "stdout",
     "output_type": "stream",
     "text": [
      "YES\n"
     ]
    }
   ],
   "source": [
    "#run 2:\n",
    "def IsPrime(n):\n",
    "    for i in range(n-1,2,-1):\n",
    "        if n % i == 0:\n",
    "            print(i)\n",
    "            return False\n",
    "    return True\n",
    "\n",
    "# primeli = int(input())\n",
    "primeli = 16769023\n",
    "\n",
    "if IsPrime(primeli) :\n",
    "    print('YES')\n",
    "else :\n",
    "    print('NO')"
   ]
  },
  {
   "cell_type": "code",
   "execution_count": 273,
   "id": "c5ee6e97",
   "metadata": {
    "ExecuteTime": {
     "end_time": "2021-12-11T13:39:11.578733Z",
     "start_time": "2021-12-11T13:39:02.861535Z"
    }
   },
   "outputs": [
    {
     "name": "stdout",
     "output_type": "stream",
     "text": [
      "YES\n"
     ]
    }
   ],
   "source": [
    "#run 5:\n",
    "def IsPrime(n):\n",
    "    firstPrimes = (2,3,5,7,11,13)\n",
    "    if n in firstPrimes: return True\n",
    "    for i in (2,3,5,7,11):\n",
    "        if n % i == 0 :\n",
    "            return False\n",
    "    lim = n**(1/2)+1\n",
    "    div = 11\n",
    "    while div < lim:\n",
    "        div = div + 2\n",
    "        if n % div == 0:\n",
    "            return False\n",
    "        div = div + 4\n",
    "        if n % div == 0:\n",
    "            return False\n",
    "        div = div + 2\n",
    "        if n % div == 0:\n",
    "            return False\n",
    "        div = div + 2   \n",
    "        if n % div == 0:\n",
    "            return False\n",
    "    return True\n",
    "\n",
    "# primeli = int(input())\n",
    "primeli = 18014398241046527\n",
    "\n",
    "if IsPrime(primeli) :\n",
    "    print('YES')\n",
    "else :\n",
    "    print('NO')"
   ]
  },
  {
   "cell_type": "code",
   "execution_count": 267,
   "id": "dd4eca90",
   "metadata": {
    "ExecuteTime": {
     "end_time": "2021-12-11T13:34:36.265092Z",
     "start_time": "2021-12-11T13:34:36.245086Z"
    },
    "collapsed": true
   },
   "outputs": [
    {
     "name": "stdout",
     "output_type": "stream",
     "text": [
      "2 - YES\n",
      "3 - YES\n",
      "5 - YES\n",
      "7 - YES\n",
      "11 - YES\n",
      "13 - YES\n",
      "17 - YES\n",
      "19 - YES\n",
      "23 - YES\n",
      "29 - YES\n",
      "31 - YES\n",
      "37 - YES\n",
      "41 - YES\n",
      "43 - YES\n",
      "47 - YES\n",
      "53 - YES\n",
      "59 - YES\n",
      "61 - YES\n",
      "67 - YES\n",
      "71 - YES\n",
      "73 - YES\n",
      "79 - YES\n",
      "83 - YES\n",
      "89 - YES\n",
      "97 - YES\n"
     ]
    }
   ],
   "source": [
    "for i in range (2,100):\n",
    "    if IsPrime(i) :\n",
    "        print(i, '- YES')"
   ]
  },
  {
   "cell_type": "code",
   "execution_count": null,
   "id": "f7625c81",
   "metadata": {},
   "outputs": [],
   "source": []
  }
 ],
 "metadata": {
  "kernelspec": {
   "display_name": "Python 3",
   "language": "python",
   "name": "python3"
  },
  "language_info": {
   "codemirror_mode": {
    "name": "ipython",
    "version": 3
   },
   "file_extension": ".py",
   "mimetype": "text/x-python",
   "name": "python",
   "nbconvert_exporter": "python",
   "pygments_lexer": "ipython3",
   "version": "3.8.8"
  }
 },
 "nbformat": 4,
 "nbformat_minor": 5
}
