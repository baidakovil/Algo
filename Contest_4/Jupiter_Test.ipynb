{
 "cells": [
  {
   "cell_type": "code",
   "execution_count": null,
   "id": "8e74c406",
   "metadata": {
    "ExecuteTime": {
     "end_time": "2022-01-06T14:44:49.094289Z",
     "start_time": "2022-01-06T14:44:49.088290Z"
    }
   },
   "outputs": [],
   "source": [
    "class Bag:\n",
    "    def __init__(self):\n",
    "        self.data = []\n",
    "\n",
    "    def add(self, x):\n",
    "        self.data.append(x)\n",
    "\n"
   ]
  },
  {
   "cell_type": "code",
   "execution_count": null,
   "id": "ffedf510",
   "metadata": {
    "ExecuteTime": {
     "end_time": "2022-01-06T14:44:52.533044Z",
     "start_time": "2022-01-06T14:44:52.519035Z"
    }
   },
   "outputs": [],
   "source": [
    "a = Bag\n"
   ]
  },
  {
   "cell_type": "code",
   "execution_count": null,
   "id": "773b3249",
   "metadata": {
    "ExecuteTime": {
     "end_time": "2022-01-06T14:46:03.282044Z",
     "start_time": "2022-01-06T14:46:03.279062Z"
    }
   },
   "outputs": [],
   "source": [
    "a().add(a)"
   ]
  },
  {
   "cell_type": "code",
   "execution_count": null,
   "id": "8f6a0904",
   "metadata": {
    "ExecuteTime": {
     "end_time": "2022-01-06T17:18:49.498101Z",
     "start_time": "2022-01-06T17:18:49.488087Z"
    }
   },
   "outputs": [],
   "source": [
    "p = 5"
   ]
  },
  {
   "cell_type": "code",
   "execution_count": null,
   "id": "b96d0524",
   "metadata": {
    "ExecuteTime": {
     "end_time": "2022-01-06T17:18:50.264773Z",
     "start_time": "2022-01-06T17:18:50.247778Z"
    }
   },
   "outputs": [],
   "source": [
    "p -= 1\n",
    "p"
   ]
  },
  {
   "cell_type": "code",
   "execution_count": null,
   "id": "08dfc28c",
   "metadata": {
    "ExecuteTime": {
     "end_time": "2022-01-06T15:39:23.153260Z",
     "start_time": "2022-01-06T15:39:23.134266Z"
    }
   },
   "outputs": [],
   "source": [
    "p // 2"
   ]
  },
  {
   "cell_type": "code",
   "execution_count": null,
   "id": "680b8b28",
   "metadata": {
    "ExecuteTime": {
     "end_time": "2022-01-06T17:41:09.900968Z",
     "start_time": "2022-01-06T17:41:09.887960Z"
    }
   },
   "outputs": [],
   "source": [
    "b = list()\n",
    "b.insert(50,5)"
   ]
  },
  {
   "cell_type": "code",
   "execution_count": null,
   "id": "ef16fb31",
   "metadata": {
    "ExecuteTime": {
     "end_time": "2022-01-07T19:15:33.015369Z",
     "start_time": "2022-01-07T19:15:33.011399Z"
    }
   },
   "outputs": [],
   "source": [
    "10.5%1"
   ]
  },
  {
   "cell_type": "code",
   "execution_count": null,
   "id": "50ff924d",
   "metadata": {
    "ExecuteTime": {
     "end_time": "2022-01-12T07:50:47.559053Z",
     "start_time": "2022-01-12T07:50:47.495087Z"
    }
   },
   "outputs": [],
   "source": [
    "1 % 2"
   ]
  },
  {
   "cell_type": "code",
   "execution_count": null,
   "id": "739ca7d2",
   "metadata": {
    "ExecuteTime": {
     "end_time": "2022-01-12T09:10:48.383691Z",
     "start_time": "2022-01-12T09:10:48.379692Z"
    }
   },
   "outputs": [],
   "source": [
    "round(1.25)"
   ]
  },
  {
   "cell_type": "code",
   "execution_count": null,
   "id": "de4c4e2d",
   "metadata": {
    "ExecuteTime": {
     "end_time": "2022-01-12T10:57:52.058291Z",
     "start_time": "2022-01-12T10:57:52.043296Z"
    }
   },
   "outputs": [],
   "source": [
    "(2**4-6)*2**7"
   ]
  },
  {
   "cell_type": "code",
   "execution_count": null,
   "id": "55cff7d3",
   "metadata": {
    "ExecuteTime": {
     "end_time": "2022-01-12T10:58:25.260665Z",
     "start_time": "2022-01-12T10:58:25.251668Z"
    }
   },
   "outputs": [],
   "source": [
    "((2*2-1)*2-1)*2**8"
   ]
  },
  {
   "cell_type": "code",
   "execution_count": null,
   "id": "0cef7c11",
   "metadata": {
    "ExecuteTime": {
     "end_time": "2022-01-12T11:05:27.966399Z",
     "start_time": "2022-01-12T11:05:27.951391Z"
    }
   },
   "outputs": [],
   "source": [
    "(2**4-7)*2**7"
   ]
  },
  {
   "cell_type": "code",
   "execution_count": null,
   "id": "816dde88",
   "metadata": {
    "ExecuteTime": {
     "end_time": "2022-01-12T11:10:55.681506Z",
     "start_time": "2022-01-12T11:10:55.676507Z"
    }
   },
   "outputs": [],
   "source": [
    "import math\n",
    "a = 1152\n",
    "w = math.floor(math.log(896,2))\n",
    "w"
   ]
  },
  {
   "cell_type": "code",
   "execution_count": null,
   "id": "dc8e466f",
   "metadata": {
    "ExecuteTime": {
     "end_time": "2022-01-12T11:03:23.730158Z",
     "start_time": "2022-01-12T11:03:23.716167Z"
    }
   },
   "outputs": [],
   "source": [
    "a - 2**w"
   ]
  },
  {
   "cell_type": "code",
   "execution_count": null,
   "id": "454c8298",
   "metadata": {
    "ExecuteTime": {
     "end_time": "2022-01-12T11:11:06.094174Z",
     "start_time": "2022-01-12T11:11:06.084192Z"
    }
   },
   "outputs": [],
   "source": [
    "math.log(896,2)"
   ]
  },
  {
   "cell_type": "code",
   "execution_count": null,
   "id": "17d790b1",
   "metadata": {
    "ExecuteTime": {
     "end_time": "2022-01-12T11:11:45.101691Z",
     "start_time": "2022-01-12T11:11:45.083696Z"
    }
   },
   "outputs": [],
   "source": [
    "896 - 2**9\n"
   ]
  },
  {
   "cell_type": "code",
   "execution_count": null,
   "id": "65d1a3ff",
   "metadata": {
    "ExecuteTime": {
     "end_time": "2022-01-12T11:11:55.332428Z",
     "start_time": "2022-01-12T11:11:55.316438Z"
    }
   },
   "outputs": [],
   "source": [
    "math.log(384,2)"
   ]
  },
  {
   "cell_type": "code",
   "execution_count": null,
   "id": "8b5ffe10",
   "metadata": {
    "ExecuteTime": {
     "end_time": "2022-01-12T11:12:06.169960Z",
     "start_time": "2022-01-12T11:12:06.155969Z"
    }
   },
   "outputs": [],
   "source": [
    "384 - 2**8"
   ]
  },
  {
   "cell_type": "code",
   "execution_count": null,
   "id": "4c31c017",
   "metadata": {
    "ExecuteTime": {
     "end_time": "2022-01-12T11:12:18.655959Z",
     "start_time": "2022-01-12T11:12:18.643955Z"
    }
   },
   "outputs": [],
   "source": [
    "math.log(128,2)"
   ]
  },
  {
   "cell_type": "code",
   "execution_count": null,
   "id": "e0a1b0fd",
   "metadata": {
    "ExecuteTime": {
     "end_time": "2022-01-12T12:00:04.467319Z",
     "start_time": "2022-01-12T12:00:04.460308Z"
    }
   },
   "outputs": [],
   "source": [
    "2*2**10-896"
   ]
  },
  {
   "cell_type": "code",
   "execution_count": null,
   "id": "1d65359f",
   "metadata": {
    "ExecuteTime": {
     "end_time": "2022-01-12T11:58:12.575128Z",
     "start_time": "2022-01-12T11:58:12.556138Z"
    }
   },
   "outputs": [],
   "source": [
    "(2*2-1)*2**9-384"
   ]
  },
  {
   "cell_type": "code",
   "execution_count": null,
   "id": "e26f2457",
   "metadata": {
    "ExecuteTime": {
     "end_time": "2022-01-12T11:58:53.275090Z",
     "start_time": "2022-01-12T11:58:53.261094Z"
    }
   },
   "outputs": [],
   "source": [
    "((2*2-1)*2-1)*2**8-128"
   ]
  },
  {
   "cell_type": "code",
   "execution_count": null,
   "id": "2a3e227a",
   "metadata": {
    "ExecuteTime": {
     "end_time": "2022-01-12T11:58:02.132467Z",
     "start_time": "2022-01-12T11:58:02.116462Z"
    }
   },
   "outputs": [],
   "source": [
    "(((2*2-1)*2-1)*2-1)*2**7"
   ]
  },
  {
   "cell_type": "code",
   "execution_count": null,
   "id": "fa78fd06",
   "metadata": {
    "ExecuteTime": {
     "end_time": "2022-01-12T11:33:23.115293Z",
     "start_time": "2022-01-12T11:33:23.100306Z"
    }
   },
   "outputs": [],
   "source": [
    "2*2**10-896"
   ]
  },
  {
   "cell_type": "code",
   "execution_count": null,
   "id": "edf96472",
   "metadata": {
    "ExecuteTime": {
     "end_time": "2022-01-12T12:09:14.201390Z",
     "start_time": "2022-01-12T12:09:14.196391Z"
    }
   },
   "outputs": [],
   "source": [
    "100*2**7"
   ]
  },
  {
   "cell_type": "code",
   "execution_count": null,
   "id": "62d944ec",
   "metadata": {
    "ExecuteTime": {
     "end_time": "2022-01-12T12:11:44.893146Z",
     "start_time": "2022-01-12T12:11:44.877161Z"
    }
   },
   "outputs": [],
   "source": [
    "2801-753"
   ]
  },
  {
   "cell_type": "code",
   "execution_count": null,
   "id": "842c329a",
   "metadata": {
    "ExecuteTime": {
     "end_time": "2022-01-12T12:11:52.092855Z",
     "start_time": "2022-01-12T12:11:52.083845Z"
    }
   },
   "outputs": [],
   "source": [
    "2**11"
   ]
  },
  {
   "cell_type": "code",
   "execution_count": null,
   "id": "1bf57e3a",
   "metadata": {
    "ExecuteTime": {
     "end_time": "2022-01-13T15:09:46.575563Z",
     "start_time": "2022-01-13T15:09:46.557555Z"
    }
   },
   "outputs": [],
   "source": [
    "data = (1,4, None)\n",
    "a = (data)"
   ]
  },
  {
   "cell_type": "code",
   "execution_count": 1,
   "id": "7901f3be",
   "metadata": {
    "ExecuteTime": {
     "end_time": "2022-01-14T06:33:36.631949Z",
     "start_time": "2022-01-14T06:33:36.619952Z"
    }
   },
   "outputs": [],
   "source": [
    "a = [2,3,4]"
   ]
  },
  {
   "cell_type": "code",
   "execution_count": 2,
   "id": "a7fd5809",
   "metadata": {
    "ExecuteTime": {
     "end_time": "2022-01-14T06:33:37.327726Z",
     "start_time": "2022-01-14T06:33:37.308732Z"
    }
   },
   "outputs": [
    {
     "data": {
      "text/plain": [
       "[2, 3, 4]"
      ]
     },
     "execution_count": 2,
     "metadata": {},
     "output_type": "execute_result"
    }
   ],
   "source": [
    "a"
   ]
  },
  {
   "cell_type": "code",
   "execution_count": 3,
   "id": "5ea794f8",
   "metadata": {
    "ExecuteTime": {
     "end_time": "2022-01-14T06:33:38.223439Z",
     "start_time": "2022-01-14T06:33:38.220440Z"
    }
   },
   "outputs": [],
   "source": [
    "import heapq"
   ]
  },
  {
   "cell_type": "code",
   "execution_count": 4,
   "id": "958d3713",
   "metadata": {
    "ExecuteTime": {
     "end_time": "2022-01-14T06:33:39.219133Z",
     "start_time": "2022-01-14T06:33:39.204125Z"
    }
   },
   "outputs": [],
   "source": [
    "h = []\n",
    "for value in a:\n",
    "    heapq.heappush(h, value)"
   ]
  },
  {
   "cell_type": "code",
   "execution_count": 111,
   "id": "42f5cadb",
   "metadata": {
    "ExecuteTime": {
     "end_time": "2022-01-14T09:47:34.729593Z",
     "start_time": "2022-01-14T09:47:34.717589Z"
    }
   },
   "outputs": [
    {
     "name": "stdout",
     "output_type": "stream",
     "text": [
      "haha\n"
     ]
    }
   ],
   "source": [
    "try:\n",
    "    a = heapq.heappop(h)\n",
    "except IndexError:\n",
    "    print('haha')"
   ]
  },
  {
   "cell_type": "code",
   "execution_count": 38,
   "id": "faea78ed",
   "metadata": {
    "ExecuteTime": {
     "end_time": "2022-01-14T06:44:37.775380Z",
     "start_time": "2022-01-14T06:44:37.764390Z"
    }
   },
   "outputs": [],
   "source": [
    "v = (2,6)\n",
    "g = [0,0]\n",
    "g[1]=v"
   ]
  },
  {
   "cell_type": "code",
   "execution_count": 43,
   "id": "72279a83",
   "metadata": {
    "ExecuteTime": {
     "end_time": "2022-01-14T06:45:03.195239Z",
     "start_time": "2022-01-14T06:45:03.181230Z"
    }
   },
   "outputs": [],
   "source": [
    "g = [0,0]"
   ]
  },
  {
   "cell_type": "code",
   "execution_count": 44,
   "id": "f9b52005",
   "metadata": {
    "ExecuteTime": {
     "end_time": "2022-01-14T06:45:06.401213Z",
     "start_time": "2022-01-14T06:45:06.389221Z"
    }
   },
   "outputs": [],
   "source": [
    "v2 = (3,5)\n",
    "g[1]=g[1],v2\n",
    "g[1]=tuple(g[1])"
   ]
  },
  {
   "cell_type": "code",
   "execution_count": 45,
   "id": "737f0f86",
   "metadata": {
    "ExecuteTime": {
     "end_time": "2022-01-14T06:45:07.618820Z",
     "start_time": "2022-01-14T06:45:07.612812Z"
    }
   },
   "outputs": [],
   "source": [
    "g[1]=tuple(g[1])"
   ]
  },
  {
   "cell_type": "code",
   "execution_count": 46,
   "id": "c9d3c2a9",
   "metadata": {
    "ExecuteTime": {
     "end_time": "2022-01-14T06:45:08.073664Z",
     "start_time": "2022-01-14T06:45:08.060694Z"
    }
   },
   "outputs": [
    {
     "data": {
      "text/plain": [
       "[0, (0, (3, 5))]"
      ]
     },
     "execution_count": 46,
     "metadata": {},
     "output_type": "execute_result"
    }
   ],
   "source": [
    "g"
   ]
  },
  {
   "cell_type": "code",
   "execution_count": 102,
   "id": "b7ea4464",
   "metadata": {
    "ExecuteTime": {
     "end_time": "2022-01-14T08:13:26.648152Z",
     "start_time": "2022-01-14T08:13:26.637182Z"
    }
   },
   "outputs": [],
   "source": [
    "vdict = dict(shortest = 999999, final = False, prev = None)\n",
    "vdata = [dict(shortest = 999999, final = False, prev = None) for _ in range(5)]"
   ]
  },
  {
   "cell_type": "code",
   "execution_count": 103,
   "id": "e89045cb",
   "metadata": {
    "ExecuteTime": {
     "end_time": "2022-01-14T08:13:27.862776Z",
     "start_time": "2022-01-14T08:13:27.845786Z"
    }
   },
   "outputs": [],
   "source": [
    "vdata[1]['shortest'] = 5"
   ]
  },
  {
   "cell_type": "code",
   "execution_count": 104,
   "id": "9efca808",
   "metadata": {
    "ExecuteTime": {
     "end_time": "2022-01-14T08:13:28.298637Z",
     "start_time": "2022-01-14T08:13:28.285645Z"
    }
   },
   "outputs": [
    {
     "data": {
      "text/plain": [
       "[{'shortest': 999999, 'final': False, 'prev': None},\n",
       " {'shortest': 5, 'final': False, 'prev': None},\n",
       " {'shortest': 999999, 'final': False, 'prev': None},\n",
       " {'shortest': 999999, 'final': False, 'prev': None},\n",
       " {'shortest': 999999, 'final': False, 'prev': None}]"
      ]
     },
     "execution_count": 104,
     "metadata": {},
     "output_type": "execute_result"
    }
   ],
   "source": [
    "vdata"
   ]
  },
  {
   "cell_type": "code",
   "execution_count": 86,
   "id": "37d4ae04",
   "metadata": {
    "ExecuteTime": {
     "end_time": "2022-01-14T08:08:13.821077Z",
     "start_time": "2022-01-14T08:08:13.805069Z"
    }
   },
   "outputs": [],
   "source": [
    "ee = {'a':4,'b':5}"
   ]
  },
  {
   "cell_type": "code",
   "execution_count": 87,
   "id": "728cfff7",
   "metadata": {
    "ExecuteTime": {
     "end_time": "2022-01-14T08:08:16.617182Z",
     "start_time": "2022-01-14T08:08:16.605173Z"
    }
   },
   "outputs": [
    {
     "data": {
      "text/plain": [
       "{'a': 5, 'b': 6}"
      ]
     },
     "execution_count": 87,
     "metadata": {},
     "output_type": "execute_result"
    }
   ],
   "source": [
    "dd"
   ]
  },
  {
   "cell_type": "code",
   "execution_count": 88,
   "id": "73955583",
   "metadata": {
    "ExecuteTime": {
     "end_time": "2022-01-14T08:08:18.568554Z",
     "start_time": "2022-01-14T08:08:18.558580Z"
    }
   },
   "outputs": [
    {
     "data": {
      "text/plain": [
       "{'a': 4, 'b': 5}"
      ]
     },
     "execution_count": 88,
     "metadata": {},
     "output_type": "execute_result"
    }
   ],
   "source": [
    "ee"
   ]
  },
  {
   "cell_type": "code",
   "execution_count": 112,
   "id": "e406cda9",
   "metadata": {
    "ExecuteTime": {
     "end_time": "2022-01-14T11:25:52.489818Z",
     "start_time": "2022-01-14T11:25:51.768039Z"
    }
   },
   "outputs": [],
   "source": [
    "import numpy as np"
   ]
  },
  {
   "cell_type": "code",
   "execution_count": 114,
   "id": "a8c39f46",
   "metadata": {
    "ExecuteTime": {
     "end_time": "2022-01-14T11:26:05.825541Z",
     "start_time": "2022-01-14T11:26:05.806563Z"
    }
   },
   "outputs": [
    {
     "data": {
      "text/plain": [
       "array([[0., 0., 0.],\n",
       "       [0., 0., 0.],\n",
       "       [0., 0., 0.]])"
      ]
     },
     "execution_count": 114,
     "metadata": {},
     "output_type": "execute_result"
    }
   ],
   "source": [
    "n = 3\n",
    "g_array = np.zeros([n,n])\n",
    "g_array"
   ]
  },
  {
   "cell_type": "code",
   "execution_count": 146,
   "id": "215069a0",
   "metadata": {
    "ExecuteTime": {
     "end_time": "2022-01-14T12:10:31.257516Z",
     "start_time": "2022-01-14T12:10:31.246537Z"
    }
   },
   "outputs": [],
   "source": [
    "g_array[1, 1] = 2"
   ]
  },
  {
   "cell_type": "code",
   "execution_count": 147,
   "id": "3e968aa3",
   "metadata": {
    "ExecuteTime": {
     "end_time": "2022-01-14T12:10:33.070949Z",
     "start_time": "2022-01-14T12:10:33.062938Z"
    }
   },
   "outputs": [
    {
     "data": {
      "text/plain": [
       "array([[3., 0., 0.],\n",
       "       [0., 2., 3.],\n",
       "       [0., 0., 0.]])"
      ]
     },
     "execution_count": 147,
     "metadata": {},
     "output_type": "execute_result"
    }
   ],
   "source": [
    "g_array"
   ]
  },
  {
   "cell_type": "code",
   "execution_count": 141,
   "id": "1273d8d7",
   "metadata": {
    "ExecuteTime": {
     "end_time": "2022-01-14T12:09:05.805876Z",
     "start_time": "2022-01-14T12:09:05.798865Z"
    }
   },
   "outputs": [
    {
     "data": {
      "text/plain": [
       "(array([0], dtype=int64),)"
      ]
     },
     "execution_count": 141,
     "metadata": {},
     "output_type": "execute_result"
    }
   ],
   "source": [
    "np.where(np.any(g_array[1]>0,axis=0))"
   ]
  },
  {
   "cell_type": "code",
   "execution_count": 191,
   "id": "2d09ea69",
   "metadata": {
    "ExecuteTime": {
     "end_time": "2022-01-14T12:21:55.071674Z",
     "start_time": "2022-01-14T12:21:55.062676Z"
    }
   },
   "outputs": [
    {
     "data": {
      "text/plain": [
       "array([[1],\n",
       "       [2]], dtype=int64)"
      ]
     },
     "execution_count": 191,
     "metadata": {},
     "output_type": "execute_result"
    }
   ],
   "source": [
    "edges = np.transpose((g_array[1] > 0).nonzero())\n",
    "edges"
   ]
  },
  {
   "cell_type": "code",
   "execution_count": 192,
   "id": "0cfdbb91",
   "metadata": {
    "ExecuteTime": {
     "end_time": "2022-01-14T12:22:02.974145Z",
     "start_time": "2022-01-14T12:22:02.963165Z"
    }
   },
   "outputs": [
    {
     "name": "stdout",
     "output_type": "stream",
     "text": [
      "1\n",
      "2\n"
     ]
    }
   ],
   "source": [
    "for neigbo in edges:\n",
    "    print(neigbo[0])"
   ]
  },
  {
   "cell_type": "code",
   "execution_count": 193,
   "id": "0b69c55b",
   "metadata": {
    "ExecuteTime": {
     "end_time": "2022-01-14T14:02:20.668195Z",
     "start_time": "2022-01-14T14:02:20.656216Z"
    }
   },
   "outputs": [],
   "source": [
    "final = [False for _ in range(3)]"
   ]
  },
  {
   "cell_type": "code",
   "execution_count": 194,
   "id": "67f7afaf",
   "metadata": {
    "ExecuteTime": {
     "end_time": "2022-01-14T14:02:22.853505Z",
     "start_time": "2022-01-14T14:02:22.839518Z"
    }
   },
   "outputs": [
    {
     "data": {
      "text/plain": [
       "[False, False, False]"
      ]
     },
     "execution_count": 194,
     "metadata": {},
     "output_type": "execute_result"
    }
   ],
   "source": [
    "final"
   ]
  },
  {
   "cell_type": "code",
   "execution_count": 201,
   "id": "65105700",
   "metadata": {
    "ExecuteTime": {
     "end_time": "2022-01-14T14:03:44.337431Z",
     "start_time": "2022-01-14T14:03:44.326454Z"
    }
   },
   "outputs": [],
   "source": [
    "final[2] = True"
   ]
  },
  {
   "cell_type": "code",
   "execution_count": 196,
   "id": "b80f1dd6",
   "metadata": {
    "ExecuteTime": {
     "end_time": "2022-01-14T14:02:36.370185Z",
     "start_time": "2022-01-14T14:02:36.351176Z"
    }
   },
   "outputs": [
    {
     "data": {
      "text/plain": [
       "[True, False, False]"
      ]
     },
     "execution_count": 196,
     "metadata": {},
     "output_type": "execute_result"
    }
   ],
   "source": [
    "final"
   ]
  },
  {
   "cell_type": "code",
   "execution_count": 202,
   "id": "62a678d3",
   "metadata": {
    "ExecuteTime": {
     "end_time": "2022-01-14T14:03:45.880931Z",
     "start_time": "2022-01-14T14:03:45.870944Z"
    }
   },
   "outputs": [
    {
     "name": "stdout",
     "output_type": "stream",
     "text": [
      "yes\n"
     ]
    }
   ],
   "source": [
    "if all(final):\n",
    "    print('yes')"
   ]
  },
  {
   "cell_type": "code",
   "execution_count": 207,
   "id": "e928f5a2",
   "metadata": {
    "ExecuteTime": {
     "end_time": "2022-01-14T14:20:09.648097Z",
     "start_time": "2022-01-14T14:20:09.639098Z"
    }
   },
   "outputs": [],
   "source": [
    "g_list = [[]] * 5"
   ]
  },
  {
   "cell_type": "code",
   "execution_count": 208,
   "id": "cdaa46f0",
   "metadata": {
    "ExecuteTime": {
     "end_time": "2022-01-14T14:20:10.069952Z",
     "start_time": "2022-01-14T14:20:10.062954Z"
    },
    "scrolled": true
   },
   "outputs": [
    {
     "data": {
      "text/plain": [
       "[[], [], [], [], []]"
      ]
     },
     "execution_count": 208,
     "metadata": {},
     "output_type": "execute_result"
    }
   ],
   "source": [
    "g_list"
   ]
  },
  {
   "cell_type": "code",
   "execution_count": 250,
   "id": "34ca03fe",
   "metadata": {
    "ExecuteTime": {
     "end_time": "2022-01-14T14:57:48.037247Z",
     "start_time": "2022-01-14T14:57:48.031249Z"
    }
   },
   "outputs": [],
   "source": [
    "a = (i for i in range(1, 5))"
   ]
  },
  {
   "cell_type": "code",
   "execution_count": 261,
   "id": "301a1d33",
   "metadata": {
    "ExecuteTime": {
     "end_time": "2022-01-14T15:02:07.555193Z",
     "start_time": "2022-01-14T15:02:07.551195Z"
    }
   },
   "outputs": [],
   "source": [
    "b = dict.fromkeys(range(1, 5), [])"
   ]
  },
  {
   "cell_type": "code",
   "execution_count": 275,
   "id": "f57b3785",
   "metadata": {
    "ExecuteTime": {
     "end_time": "2022-01-14T15:11:48.962136Z",
     "start_time": "2022-01-14T15:11:48.948146Z"
    }
   },
   "outputs": [],
   "source": [
    "c = dict.fromkeys((i for i in range(1, 5)), True)\n",
    "c[1] = True"
   ]
  },
  {
   "cell_type": "code",
   "execution_count": 276,
   "id": "5aafd0bd",
   "metadata": {
    "ExecuteTime": {
     "end_time": "2022-01-14T15:11:49.529956Z",
     "start_time": "2022-01-14T15:11:49.510948Z"
    }
   },
   "outputs": [
    {
     "data": {
      "text/plain": [
       "True"
      ]
     },
     "execution_count": 276,
     "metadata": {},
     "output_type": "execute_result"
    }
   ],
   "source": [
    "all(c.values())"
   ]
  },
  {
   "cell_type": "code",
   "execution_count": 269,
   "id": "4c299b33",
   "metadata": {
    "ExecuteTime": {
     "end_time": "2022-01-14T15:10:49.236238Z",
     "start_time": "2022-01-14T15:10:49.231263Z"
    }
   },
   "outputs": [
    {
     "name": "stdout",
     "output_type": "stream",
     "text": [
      "yes\n"
     ]
    }
   ],
   "source": [
    "if c.values():\n",
    "    print('yes')"
   ]
  },
  {
   "cell_type": "code",
   "execution_count": 279,
   "id": "2ce6db47",
   "metadata": {
    "ExecuteTime": {
     "end_time": "2022-01-14T15:33:13.572332Z",
     "start_time": "2022-01-14T15:33:13.559340Z"
    }
   },
   "outputs": [],
   "source": [
    "import math\n",
    "shortest = {(math.inf,i) for i in range(2,n+1)}"
   ]
  },
  {
   "cell_type": "code",
   "execution_count": 280,
   "id": "18097fed",
   "metadata": {
    "ExecuteTime": {
     "end_time": "2022-01-14T15:33:13.934203Z",
     "start_time": "2022-01-14T15:33:13.920213Z"
    }
   },
   "outputs": [
    {
     "data": {
      "text/plain": [
       "{(inf, 2), (inf, 3)}"
      ]
     },
     "execution_count": 280,
     "metadata": {},
     "output_type": "execute_result"
    }
   ],
   "source": [
    "shortest"
   ]
  },
  {
   "cell_type": "code",
   "execution_count": 294,
   "id": "714c36f8",
   "metadata": {
    "ExecuteTime": {
     "end_time": "2022-01-14T18:27:52.093853Z",
     "start_time": "2022-01-14T18:27:52.087854Z"
    }
   },
   "outputs": [],
   "source": [
    "a = [0,1,2]"
   ]
  },
  {
   "cell_type": "code",
   "execution_count": 295,
   "id": "149c8f5a",
   "metadata": {
    "ExecuteTime": {
     "end_time": "2022-01-14T18:27:52.327790Z",
     "start_time": "2022-01-14T18:27:52.311795Z"
    }
   },
   "outputs": [],
   "source": [
    "a.remove(len(a)-1)"
   ]
  },
  {
   "cell_type": "code",
   "execution_count": 296,
   "id": "3f2233d2",
   "metadata": {
    "ExecuteTime": {
     "end_time": "2022-01-14T18:27:52.989565Z",
     "start_time": "2022-01-14T18:27:52.976588Z"
    }
   },
   "outputs": [
    {
     "data": {
      "text/plain": [
       "[0, 1]"
      ]
     },
     "execution_count": 296,
     "metadata": {},
     "output_type": "execute_result"
    }
   ],
   "source": [
    "a"
   ]
  },
  {
   "cell_type": "code",
   "execution_count": null,
   "id": "209751b6",
   "metadata": {},
   "outputs": [],
   "source": [
    "while a"
   ]
  }
 ],
 "metadata": {
  "kernelspec": {
   "display_name": "Python 3",
   "language": "python",
   "name": "python3"
  },
  "language_info": {
   "codemirror_mode": {
    "name": "ipython",
    "version": 3
   },
   "file_extension": ".py",
   "mimetype": "text/x-python",
   "name": "python",
   "nbconvert_exporter": "python",
   "pygments_lexer": "ipython3",
   "version": "3.8.8"
  }
 },
 "nbformat": 4,
 "nbformat_minor": 5
}
