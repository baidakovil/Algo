{
 "cells": [
  {
   "cell_type": "code",
   "execution_count": 8,
   "id": "d4856ed9",
   "metadata": {
    "ExecuteTime": {
     "end_time": "2021-12-11T13:57:33.161520Z",
     "start_time": "2021-12-11T13:57:27.324310Z"
    }
   },
   "outputs": [
    {
     "name": "stdout",
     "output_type": "stream",
     "text": [
      "755\n",
      "12\n"
     ]
    }
   ],
   "source": [
    "a = float(input())\n",
    "n = int(input())"
   ]
  },
  {
   "cell_type": "code",
   "execution_count": 9,
   "id": "a60495a1",
   "metadata": {
    "ExecuteTime": {
     "end_time": "2021-12-11T13:57:34.247098Z",
     "start_time": "2021-12-11T13:57:34.236087Z"
    }
   },
   "outputs": [
    {
     "name": "stdout",
     "output_type": "stream",
     "text": [
      "3.4305473619537967e+34\n"
     ]
    }
   ],
   "source": [
    "a = float(input())\n",
    "n = int(input())\n",
    "if n % 2 == 0:\n",
    "    power = (a**2)**(n/2)\n",
    "    print(power)\n",
    "else:\n",
    "    power=a*a**(n-1)\n",
    "    print(power)"
   ]
  },
  {
   "cell_type": "code",
   "execution_count": 10,
   "id": "cd311ff2",
   "metadata": {
    "ExecuteTime": {
     "end_time": "2021-12-11T13:57:37.005982Z",
     "start_time": "2021-12-11T13:57:36.986975Z"
    }
   },
   "outputs": [
    {
     "data": {
      "text/plain": [
       "3.4305473619537967e+34"
      ]
     },
     "execution_count": 10,
     "metadata": {},
     "output_type": "execute_result"
    }
   ],
   "source": [
    "a**n"
   ]
  },
  {
   "cell_type": "code",
   "execution_count": 17,
   "id": "eeb9c572",
   "metadata": {
    "ExecuteTime": {
     "end_time": "2021-12-11T14:00:07.221932Z",
     "start_time": "2021-12-11T14:00:07.203938Z"
    }
   },
   "outputs": [
    {
     "name": "stdout",
     "output_type": "stream",
     "text": [
      "1.650561015513671e+236\n"
     ]
    }
   ],
   "source": [
    "a = 5595541299911199.1\n",
    "n = 15\n",
    "if n % 2 == 0:\n",
    "    power = (a**2)**(n/2)\n",
    "    print(power)\n",
    "else:\n",
    "    power=a*a**(n-1)\n",
    "    print(power)"
   ]
  },
  {
   "cell_type": "code",
   "execution_count": null,
   "id": "f5bb88e7",
   "metadata": {},
   "outputs": [],
   "source": []
  }
 ],
 "metadata": {
  "kernelspec": {
   "display_name": "Python 3",
   "language": "python",
   "name": "python3"
  },
  "language_info": {
   "codemirror_mode": {
    "name": "ipython",
    "version": 3
   },
   "file_extension": ".py",
   "mimetype": "text/x-python",
   "name": "python",
   "nbconvert_exporter": "python",
   "pygments_lexer": "ipython3",
   "version": "3.8.8"
  }
 },
 "nbformat": 4,
 "nbformat_minor": 5
}
