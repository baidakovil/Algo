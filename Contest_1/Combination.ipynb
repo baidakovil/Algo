{
 "cells": [
  {
   "cell_type": "code",
   "execution_count": 82,
   "id": "c2956297",
   "metadata": {
    "ExecuteTime": {
     "end_time": "2021-12-11T14:43:35.920158Z",
     "start_time": "2021-12-11T14:43:32.802185Z"
    },
    "collapsed": true
   },
   "outputs": [
    {
     "name": "stdout",
     "output_type": "stream",
     "text": [
      "4\n",
      "2\n"
     ]
    }
   ],
   "source": [
    "n = int(input())\n",
    "k = int(input())"
   ]
  },
  {
   "cell_type": "code",
   "execution_count": 142,
   "id": "4d8fcb5e",
   "metadata": {
    "ExecuteTime": {
     "end_time": "2021-12-11T15:41:59.235108Z",
     "start_time": "2021-12-11T15:41:57.096627Z"
    }
   },
   "outputs": [
    {
     "name": "stdout",
     "output_type": "stream",
     "text": [
      "4\n",
      "0\n",
      "0\n"
     ]
    }
   ],
   "source": [
    "def C(n,k):\n",
    "    if k == 0:\n",
    "        return 1\n",
    "    def factorial(a):\n",
    "        fact = 1\n",
    "        for i in range(1,a+1):\n",
    "            fact = i*fact\n",
    "        return fact\n",
    "    if n == k :\n",
    "        nmk = 1\n",
    "        obnul = 0\n",
    "    else :\n",
    "        nmk = n - k\n",
    "        obnul = 1\n",
    "    nm1 = factorial(n-1)\n",
    "    print(f'nm1:{nm1}')\n",
    "    km1 = factorial(k-1)\n",
    "    print(f'km1:{km1}')\n",
    "    nkm1 = factorial(n-1-k)\n",
    "    print(f'nkm1:{nkm1}')\n",
    "    C_little = nm1/(km1*nkm1*nmk)\n",
    "    print(f'C_little:',C_little)\n",
    "    C_big = nm1*obnul/(km1*k*nkm1)\n",
    "    print(f'C_big:',C_big)\n",
    "    Cnk = C_little + C_big\n",
    "    return int(Cnk)\n",
    "    \n",
    "n = int(input())\n",
    "k = int(input())\n",
    "\n",
    "print(C(n,k))"
   ]
  },
  {
   "cell_type": "code",
   "execution_count": 123,
   "id": "87794e71",
   "metadata": {
    "ExecuteTime": {
     "end_time": "2021-12-11T15:27:54.387501Z",
     "start_time": "2021-12-11T15:27:54.375496Z"
    }
   },
   "outputs": [
    {
     "name": "stdout",
     "output_type": "stream",
     "text": [
      "nm1:6\n",
      "km1:2\n",
      "nkm1:1\n",
      "C_little: 3.0\n",
      "C_big: 1.0\n",
      "4.0\n"
     ]
    }
   ],
   "source": [
    "ad = C(4,3)"
   ]
  },
  {
   "cell_type": "code",
   "execution_count": 138,
   "id": "482a6d89",
   "metadata": {
    "ExecuteTime": {
     "end_time": "2021-12-11T15:39:14.082172Z",
     "start_time": "2021-12-11T15:39:14.077174Z"
    },
    "scrolled": true
   },
   "outputs": [
    {
     "data": {
      "text/plain": [
       "1"
      ]
     },
     "execution_count": 138,
     "metadata": {},
     "output_type": "execute_result"
    }
   ],
   "source": [
    "factorial(-1)"
   ]
  },
  {
   "cell_type": "code",
   "execution_count": null,
   "id": "1d6ee36c",
   "metadata": {},
   "outputs": [],
   "source": []
  }
 ],
 "metadata": {
  "kernelspec": {
   "display_name": "Python 3",
   "language": "python",
   "name": "python3"
  },
  "language_info": {
   "codemirror_mode": {
    "name": "ipython",
    "version": 3
   },
   "file_extension": ".py",
   "mimetype": "text/x-python",
   "name": "python",
   "nbconvert_exporter": "python",
   "pygments_lexer": "ipython3",
   "version": "3.8.8"
  }
 },
 "nbformat": 4,
 "nbformat_minor": 5
}
