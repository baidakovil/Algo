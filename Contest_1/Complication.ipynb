{
 "cells": [
  {
   "cell_type": "code",
   "execution_count": 71,
   "id": "3d805588",
   "metadata": {
    "ExecuteTime": {
     "end_time": "2021-12-10T21:43:10.034342Z",
     "start_time": "2021-12-10T21:43:10.024346Z"
    }
   },
   "outputs": [
    {
     "name": "stdout",
     "output_type": "stream",
     "text": [
      "3 5\n"
     ]
    }
   ],
   "source": [
    "#run 1: 46ms WA\n",
    "file = open('input.txt').read()\n",
    "otsorted = sorted(map(int,file.split()),reverse=True)\n",
    "print(otsorted[1],otsorted[0])"
   ]
  },
  {
   "cell_type": "code",
   "execution_count": 1,
   "id": "8ea9f990",
   "metadata": {
    "ExecuteTime": {
     "end_time": "2021-12-12T19:41:39.212930Z",
     "start_time": "2021-12-12T19:41:39.195922Z"
    }
   },
   "outputs": [
    {
     "name": "stdout",
     "output_type": "stream",
     "text": [
      "-5 -4\n"
     ]
    }
   ],
   "source": [
    "#run 3: 108 ms OK \n",
    "file = open('input.txt').read()\n",
    "otsort = sorted(map(int,file.split()),reverse=True)\n",
    "if otsort[0]*otsort[1] > otsort[-1]*otsort[-2] :\n",
    "    print(otsorted[1],otsort[0])\n",
    "else :\n",
    "    print(otsort[-1],otsort[-2])"
   ]
  },
  {
   "cell_type": "code",
   "execution_count": null,
   "id": "af717a30",
   "metadata": {},
   "outputs": [],
   "source": []
  }
 ],
 "metadata": {
  "kernelspec": {
   "display_name": "Python 3",
   "language": "python",
   "name": "python3"
  },
  "language_info": {
   "codemirror_mode": {
    "name": "ipython",
    "version": 3
   },
   "file_extension": ".py",
   "mimetype": "text/x-python",
   "name": "python",
   "nbconvert_exporter": "python",
   "pygments_lexer": "ipython3",
   "version": "3.8.8"
  }
 },
 "nbformat": 4,
 "nbformat_minor": 5
}
